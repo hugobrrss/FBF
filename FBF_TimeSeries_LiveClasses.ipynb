{
 "cells": [
  {
   "cell_type": "markdown",
   "id": "29f897dd-5af2-4ca7-99b3-782297e74468",
   "metadata": {},
   "source": [
    "# Forecasting for Banking Using Time Series Methods, Live Classes Python notebook\n",
    "this notebook...\n"
   ]
  },
  {
   "cell_type": "markdown",
   "id": "c145edf9-b172-42f4-9879-87e8481225ce",
   "metadata": {},
   "source": [
    "## Live Class 1"
   ]
  },
  {
   "cell_type": "code",
   "execution_count": 3,
   "id": "daa9ea7f-0f45-4ff8-9817-1b553ebbbcdf",
   "metadata": {},
   "outputs": [],
   "source": [
    "import numpy as np \n",
    "import pandas as pd \n",
    "import matplotlib.pyplot as plt\n",
    "import scipy.stats as stats\n",
    "import seaborn as sns\n",
    "import statsmodels.api as sm"
   ]
  },
  {
   "cell_type": "code",
   "execution_count": 8,
   "id": "29203a33-8304-461f-b1c0-29ed6532e5a9",
   "metadata": {},
   "outputs": [
    {
     "name": "stdout",
     "output_type": "stream",
     "text": [
      "Found 6 worksheets: ['BSI', 'GDP', 'int rate short', 'int rate long', 'Comp ind syst stress', 'HICP']\n"
     ]
    }
   ],
   "source": [
    "# Load the Excel file with all worksheets\n",
    "file_path = r\"C:\\Users\\hbourrou\\Python\\Data\\bsi_dataset.xlsx\"\n",
    "\n",
    "# Load the data into a dictionary of dataframes (the None option for sheet_name creates a dictionary of dataframes)\n",
    "excel_data = pd.read_excel(file_path, sheet_name=None)\n",
    "\n",
    "# Extract worksheet names and display info to make sure everything worked fine\n",
    "sheet_names = list(excel_data.keys())\n",
    "print(f\"Found {len(sheet_names)} worksheets: {sheet_names}\")"
   ]
  },
  {
   "cell_type": "markdown",
   "id": "f300cf60-409b-447b-8505-6d1d2c691e80",
   "metadata": {},
   "source": [
    "### Cleaning data\n",
    "Below we work on the individual dataframes to make them consistent.   \n",
    "The analysis focuses on Germany, and the monthly variables (interest rates, CISS) are converted to quarterly by averaging observations within quarters.\n",
    "\n",
    "**Note:** for this type of easy dataset, it would be cleaner to do the treatment directly in Excel (i.e. import here only the relevant variables for Germany)"
   ]
  },
  {
   "cell_type": "code",
   "execution_count": null,
   "id": "b8202f39-ebb9-4833-a302-2e1923c14461",
   "metadata": {},
   "outputs": [],
   "source": []
  },
  {
   "cell_type": "code",
   "execution_count": null,
   "id": "d4a99358-65bd-43cf-8e3f-98c2338a5cf3",
   "metadata": {},
   "outputs": [],
   "source": []
  },
  {
   "cell_type": "code",
   "execution_count": null,
   "id": "d6e67648-f0e7-47d6-becd-18133f386af5",
   "metadata": {},
   "outputs": [],
   "source": [
    "# Create individual DataFrames\n",
    "df1 = excel_data[sheet_names[0]]\n",
    "df2 = excel_data[sheet_names[1]] \n",
    "df3 = excel_data[sheet_names[2]]\n",
    "df4 = excel_data[sheet_names[3]]\n",
    "df5 = excel_data[sheet_names[4]]\n",
    "df6 = excel_data[sheet_names[5]]\n",
    "\n",
    "# Display basic info about each DataFrame\n",
    "for i, (name, df) in enumerate(excel_data.items(), 1):\n",
    "    print(f\"\\n--- Worksheet {i}: '{name}' ---\")\n",
    "    print(f\"Shape: {df.shape}\")\n",
    "    print(f\"Columns: {list(df.columns)}\")\n",
    "    print(f\"First few rows:\")\n",
    "    print(df.head(3))\n",
    "    print(f\"Data types:\")\n",
    "    print(df.dtypes)\n",
    "    print(\"-\" * 50)\n",
    "\n",
    "# Alternative: Create a dictionary for easier access by sheet name\n",
    "dataframes = {}\n",
    "for sheet_name, df in excel_data.items():\n",
    "    dataframes[sheet_name] = df\n",
    "    \n",
    "print(f\"\\nDataFrames created and stored in 'dataframes' dictionary\")\n",
    "print(f\"Access individual sheets like: dataframes['{sheet_names[0]}']\")"
   ]
  },
  {
   "cell_type": "code",
   "execution_count": null,
   "id": "15516c63-985c-4530-baf4-20a8396caad8",
   "metadata": {},
   "outputs": [],
   "source": []
  },
  {
   "cell_type": "code",
   "execution_count": null,
   "id": "43602dac-c50a-4304-b63c-1cbac5ebb658",
   "metadata": {},
   "outputs": [],
   "source": []
  },
  {
   "cell_type": "code",
   "execution_count": null,
   "id": "05c70626-2029-455d-85b4-6a021f8b5f57",
   "metadata": {},
   "outputs": [],
   "source": []
  },
  {
   "cell_type": "code",
   "execution_count": null,
   "id": "d3ca43fc-0341-4d4a-b8ba-ec72e9533723",
   "metadata": {},
   "outputs": [],
   "source": []
  },
  {
   "cell_type": "markdown",
   "id": "f021788a-d17e-4a3d-940c-3e1f875aa7c9",
   "metadata": {},
   "source": [
    "## Live Class 2"
   ]
  },
  {
   "cell_type": "code",
   "execution_count": null,
   "id": "fbbbc8e1-806c-4d2b-8072-8e142ff9668c",
   "metadata": {},
   "outputs": [],
   "source": []
  },
  {
   "cell_type": "code",
   "execution_count": null,
   "id": "11bddd14-7b26-4802-90a8-0d569e122da6",
   "metadata": {},
   "outputs": [],
   "source": []
  },
  {
   "cell_type": "code",
   "execution_count": null,
   "id": "c2b168b0-1f76-47ec-8db0-bc9d3ea4873b",
   "metadata": {},
   "outputs": [],
   "source": []
  },
  {
   "cell_type": "code",
   "execution_count": null,
   "id": "59f02ff5-7b05-42ae-ab65-1fb816c5849c",
   "metadata": {},
   "outputs": [],
   "source": []
  }
 ],
 "metadata": {
  "kernelspec": {
   "display_name": "Python 3 (ipykernel)",
   "language": "python",
   "name": "python3"
  },
  "language_info": {
   "codemirror_mode": {
    "name": "ipython",
    "version": 3
   },
   "file_extension": ".py",
   "mimetype": "text/x-python",
   "name": "python",
   "nbconvert_exporter": "python",
   "pygments_lexer": "ipython3",
   "version": "3.12.7"
  }
 },
 "nbformat": 4,
 "nbformat_minor": 5
}
